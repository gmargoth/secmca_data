{
  "nbformat": 4,
  "nbformat_minor": 0,
  "metadata": {
    "colab": {
      "provenance": [],
      "authorship_tag": "ABX9TyMLa3JTnSmHEXkZLs5EIJSv",
      "include_colab_link": true
    },
    "kernelspec": {
      "name": "python3",
      "display_name": "Python 3"
    },
    "language_info": {
      "name": "python"
    }
  },
  "cells": [
    {
      "cell_type": "markdown",
      "metadata": {
        "id": "view-in-github",
        "colab_type": "text"
      },
      "source": [
        "<a href=\"https://colab.research.google.com/github/gmargoth/secmca_data/blob/main/secmca_data_download.ipynb\" target=\"_parent\"><img src=\"https://colab.research.google.com/assets/colab-badge.svg\" alt=\"Open In Colab\"/></a>"
      ]
    },
    {
      "cell_type": "markdown",
      "source": [
        "Run All"
      ],
      "metadata": {
        "id": "XBqyN5jwxX0T"
      }
    },
    {
      "cell_type": "code",
      "source": [
        "from datetime import datetime\n",
        "from dateutil.relativedelta import relativedelta\n",
        "import requests\n",
        "import pandas as pd\n",
        "\n",
        "def secmca_download_csv(serie, start_year, end_year, country_list):\n",
        "    path = secmca_data_path(serie, start_year, end_year, country_list)\n",
        "\n",
        "    if path:\n",
        "        df = secmca_json_to_csv(serie, path, start_year)\n",
        "        return df\n",
        "    else:\n",
        "        return\n",
        "\n",
        "def secmca_data_path(serie, start_year, end_year, country_list):\n",
        "\n",
        "    country_num_dic = {\"Costa Rica\":3, \"El Salvador\":13,\"Guatemala\":50,\"Honduras\":17,\"Nicaragua\":4,\"República Dominicana\":52,\"Panamá\":161}\n",
        "\n",
        "    parent = \"https://www.secmca.org/\"\n",
        "    type_request = \"jsonpage/\"\n",
        "    json_view = \"jsonview=true&\"\n",
        "    url_country_num = \"-\".join(map(str, [country_num_dic[c] for c in country_list])) + \"/\"\n",
        "    date_range = '-'.join(f'{year}{month}' for year in range(start_year, end_year + 1) for month in range(1, 13))\n",
        "\n",
        "    if serie == \"IPC\":\n",
        "        serie_parent = \"?parent=Precios&scid=0&cid=0&scsid=0&\"\n",
        "        serie_son = \"son=%C3%8Dndice%20de%20precios%20al%20consumidor&\"\n",
        "        url_start = \"url=1/14/\"\n",
        "        url_end = \"-&all_vars=1|IPC%20general\"\n",
        "        country_suff = \"39/265/19-258/78/\"\n",
        "\n",
        "    elif serie == \"TCN\":\n",
        "        serie_parent = \"?parent=Tipos%20de%20cambio&scid=0&cid=3&scsid=undefined&\"\n",
        "        serie_son = \"son=Tipo%20de%20cambio%20de%20mercado&\"\n",
        "        url_start = \"url=29/238/\"\n",
        "        url_end = \"-&all_vars=1|Tipo%20de%20cambio%20de%20compra%20promedio%20del%20mes\"\n",
        "        country_suff = \"39/269-270/263-264/232/\"\n",
        "\n",
        "    else:\n",
        "        print(f\" ERROR: Valor de SERIE {serie} no includo, debe eser TCN o IPC\")\n",
        "        return None\n",
        "\n",
        "    path = parent + type_request + serie_parent + serie_son + json_view + url_start + url_country_num + country_suff + date_range + url_end\n",
        "\n",
        "    return path\n",
        "\n",
        "def secmca_json_to_csv(serie_code, path, start_year):\n",
        "\n",
        "    start_date = datetime(start_year, 1, 1)\n",
        "    end_date = datetime.now()\n",
        "\n",
        "    month_translation = {'January': 'Enero', 'February': 'Febrero', 'March': 'Marzo','April': 'Abril', 'May': 'Mayo', 'June': 'Junio', 'July': 'Julio','August': 'Agosto', 'September': 'Setiembre', 'October': 'Octubre','November': 'Noviembre', 'December': 'Diciembre'}\n",
        "    month_year_list = [f\"{date.strftime('%Y')}-{month_translation[date.strftime('%B')]}\" for date in [start_date + relativedelta(months=i) for i in range(0, (end_date.year - start_date.year) * 12 + (end_date.month - start_date.month + 1))]]\n",
        "\n",
        "    try:\n",
        "        response = requests.get(path)\n",
        "        content = response.json()\n",
        "\n",
        "        result = []\n",
        "        for idx, dic in pd.DataFrame.from_dict(content).iterrows():\n",
        "            df = pd.DataFrame(columns = dic.index, index = month_year_list)\n",
        "            for key, inner_dict in dic.items():\n",
        "                serie = pd.DataFrame.from_dict(inner_dict, orient=\"index\")\n",
        "                if 'valorCalculado' in serie:\n",
        "                    df[key] = serie['valorCalculado']\n",
        "            result.append(df)\n",
        "\n",
        "        for idx, df in enumerate(result):\n",
        "            display(df)\n",
        "            file_name = f\"{serie_code}_{idx + 1}.csv\"\n",
        "            df.to_csv(file_name, index=False)\n",
        "\n",
        "        return df\n",
        "\n",
        "    except Exception as e:\n",
        "        print(f\"An error occurred: {e}\")\n",
        "        return None\n"
      ],
      "metadata": {
        "id": "o0_a2_MCHse2"
      },
      "execution_count": null,
      "outputs": []
    },
    {
      "cell_type": "code",
      "source": [
        "#ejemplo\n",
        "\n",
        "serie = \"TCN\"\n",
        "start_year, end_year = 1990, 2023\n",
        "country_list =  [\"Costa Rica\", \"El Salvador\",\"Guatemala\",\"Honduras\",\"Nicaragua\",\"República Dominicana\",\"Panamá\"]\n",
        "df = secmca_download_csv(serie, start_year, end_year, country_list)"
      ],
      "metadata": {
        "id": "w0XtNlIWLuPb"
      },
      "execution_count": null,
      "outputs": []
    }
  ]
}